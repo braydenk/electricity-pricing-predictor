{
 "cells": [
  {
   "cell_type": "code",
   "execution_count": 5,
   "metadata": {
    "collapsed": false,
    "scrolled": false
   },
   "outputs": [],
   "source": [
    "# Part I - Remove outliers\n",
    "import pandas as pd\n",
    "import numpy as np\n",
    "import matplotlib.pyplot as plt\n",
    "%matplotlib inline\n",
    "\n",
    "df = pd.read_csv(\"datasets/Training_Data.csv\")\n",
    "Price = list(df['P(t+1)'])\n",
    "Q1 = np.percentile(Price, 25)\n",
    "Q3 = np.percentile(Price, 75)\n",
    "    \n",
    "in_range = [Q1 - 1.5 * (Q3 - Q1), Q3 + 1.5 * (Q3 - Q1)]\n",
    "position = np.concatenate((np.where(Price > in_range[1]),\n",
    "                              np.where(Price < in_range[0])), axis=1)\n",
    "\n",
    "df = df.drop(df.index[position[0]])\n"
   ]
  },
  {
   "cell_type": "code",
   "execution_count": 6,
   "metadata": {
    "collapsed": true,
    "scrolled": false
   },
   "outputs": [],
   "source": [
    "# Part II - Variable selection using correlation coefficient matrix\n",
    "# Inputs: (T(t-2), T(t-1), T(t), D(t-2), D(t-1), D(t))\n",
    "# Output: P(t+1)\n",
    "t2 = list(df['T(t-2)'])\n",
    "t1 = list(df['T(t-1)'])\n",
    "t = list(df['T(t)'])\n",
    "d2 = list(df['D(t-2)'])\n",
    "d1 = list(df['D(t-1)'])\n",
    "d = list(df['D(t)'])\n",
    "p = list(df['P(t+1)'])\n",
    "\n",
    "A = np.row_stack((t2, t1, t, d2, d1, d, p))\n",
    "A.shape\n",
    "\n",
    "CCM = np.corrcoef(A)"
   ]
  },
  {
   "cell_type": "code",
   "execution_count": 11,
   "metadata": {
    "collapsed": false
   },
   "outputs": [],
   "source": [
    "# Part III - Design membership functions\n",
    "# Temperature (min=20.9, max=32.3)\n",
    "# Demand (min=3807.6, max=6705.4)\n",
    "# Price (min=10.25, max=51.63)\n",
    "import skfuzzy as fuzz\n",
    "from skfuzzy import control as ctrl\n",
    "\n",
    "Temperature = ctrl.Antecedent(np.arange(20, 35, 1), 'Temperature')\n",
    "Demand = ctrl.Antecedent(np.arange(3500, 7000, 1), 'Demand')\n",
    "Price = ctrl.Consequent(np.arange(10, 60), 'Price')\n",
    "\n",
    "Temperature['cold'] = fuzz.trimf(Temperature.universe, [20, 20, 27])\n",
    "Temperature['mild'] = fuzz.trimf(Temperature.universe, [20, 27, 34])\n",
    "Temperature['hot'] = fuzz.trimf(Temperature.universe, [27, 34, 34])\n",
    "\n",
    "Demand['low'] = fuzz.trimf(Demand.universe, [3500, 3500, 5250])\n",
    "Demand['medium'] = fuzz.trimf(Demand.universe, [3500, 5250, 7000])\n",
    "Demand['high'] = fuzz.trimf(Demand.universe, [5250, 7000, 7000])\n",
    "\n",
    "Price['low'] = fuzz.trimf(Price.universe, [10, 10, 35])\n",
    "Price['medium'] = fuzz.trimf(Price.universe, [10, 35, 60])\n",
    "Price['high'] = fuzz.trimf(Price.universe, [35, 60, 60])\n"
   ]
  },
  {
   "cell_type": "code",
   "execution_count": 12,
   "metadata": {
    "collapsed": false
   },
   "outputs": [
    {
     "ename": "NameError",
     "evalue": "name 'RULES' is not defined",
     "output_type": "error",
     "traceback": [
      "\u001b[0;31m---------------------------------------------------------------------------\u001b[0m",
      "\u001b[0;31mNameError\u001b[0m                                 Traceback (most recent call last)",
      "\u001b[0;32m<ipython-input-12-a7d2a524be15>\u001b[0m in \u001b[0;36m<module>\u001b[0;34m()\u001b[0m\n\u001b[1;32m      4\u001b[0m \u001b[0mrule3\u001b[0m \u001b[0;34m=\u001b[0m \u001b[0mctrl\u001b[0m\u001b[0;34m.\u001b[0m\u001b[0mRule\u001b[0m\u001b[0;34m(\u001b[0m\u001b[0;34m)\u001b[0m\u001b[0;34m\u001b[0m\u001b[0m\n\u001b[1;32m      5\u001b[0m \u001b[0;34m\u001b[0m\u001b[0m\n\u001b[0;32m----> 6\u001b[0;31m \u001b[0mprice_ctrl\u001b[0m \u001b[0;34m=\u001b[0m \u001b[0mctrl\u001b[0m\u001b[0;34m.\u001b[0m\u001b[0mControlSystem\u001b[0m\u001b[0;34m(\u001b[0m\u001b[0;34m[\u001b[0m\u001b[0mRULES\u001b[0m\u001b[0;34m]\u001b[0m\u001b[0;34m)\u001b[0m\u001b[0;34m\u001b[0m\u001b[0m\n\u001b[0m\u001b[1;32m      7\u001b[0m \u001b[0mPrice\u001b[0m \u001b[0;34m=\u001b[0m \u001b[0mctrl\u001b[0m\u001b[0;34m.\u001b[0m\u001b[0mControlSystemSimulation\u001b[0m\u001b[0;34m(\u001b[0m\u001b[0mprice_ctrl\u001b[0m\u001b[0;34m)\u001b[0m\u001b[0;34m\u001b[0m\u001b[0m\n\u001b[1;32m      8\u001b[0m \u001b[0;34m\"\"\u001b[0m\u001b[0;34m\u001b[0m\u001b[0m\n",
      "\u001b[0;31mNameError\u001b[0m: name 'RULES' is not defined"
     ]
    }
   ],
   "source": [
    "# Part IV - Fuzzy rules\n",
    "\n",
    "\"\"\"\n",
    "price_ctrl = ctrl.ControlSystem([RULES])\n",
    "Price = ctrl.ControlSystemSimulation(price_ctrl)\n",
    "\n",
    "System_Outputs = np.zeros(LENGTH_OF_DATA, dtype=np.float64)\n",
    "for i in range(LENGTH_OF_DATA):\n",
    "    Price.input['Temperature'] = Temperature[i]\n",
    "    Price.input['Demand'] = Demand[i]\n",
    "    Price.compute()\n",
    "    System_Outputs[i] = tipping.output['tip']\n",
    "\"\"\"\n"
   ]
  },
  {
   "cell_type": "code",
   "execution_count": null,
   "metadata": {
    "collapsed": true
   },
   "outputs": [],
   "source": []
  }
 ],
 "metadata": {
  "kernelspec": {
   "display_name": "Python 3",
   "language": "python",
   "name": "python3"
  },
  "language_info": {
   "codemirror_mode": {
    "name": "ipython",
    "version": 3
   },
   "file_extension": ".py",
   "mimetype": "text/x-python",
   "name": "python",
   "nbconvert_exporter": "python",
   "pygments_lexer": "ipython3",
   "version": "3.6.0"
  }
 },
 "nbformat": 4,
 "nbformat_minor": 2
}
