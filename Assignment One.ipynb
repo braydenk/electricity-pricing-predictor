{
 "cells": [
  {
   "cell_type": "code",
   "execution_count": 23,
   "metadata": {
    "collapsed": false,
    "scrolled": false
   },
   "outputs": [
    {
     "name": "stderr",
     "output_type": "stream",
     "text": [
      "/Users/braydenkilleen/anaconda3/lib/python3.6/site-packages/matplotlib/figure.py:459: UserWarning: matplotlib is currently using a non-GUI backend, so cannot show the figure\n",
      "  \"matplotlib is currently using a non-GUI backend, \"\n"
     ]
    },
    {
     "data": {
      "image/png": "[encoded data removed]",
      "text/plain": [
       "<Figure size 432x288 with 1 Axes>"
      ]
     },
     "metadata": {},
     "output_type": "display_data"
    }
   ],
   "source": [
    "import numpy as np\n",
    "import pandas as pd\n",
    "import matplotlib.mlab as mlab\n",
    "import matplotlib.pyplot as plt\n",
    "%matplotlib inline\n",
    "\n",
    "def clean_dataset(df, file=\"outliers.csv\"):\n",
    "    price = list(df['P(t+1)'])\n",
    "    q1 = np.percentile(price, 25)\n",
    "    q3 = np.percentile(price, 75)\n",
    "    \n",
    "    in_range = [q1 - 1.5 * (q3 - q1), q3 + 1.5 * (q3 - q1)]\n",
    "    position = np.concatenate((np.where(price > in_range[1]),\n",
    "        np.where(price < in_range[0])), axis=1)\n",
    "    \n",
    "    outliers = df.loc[position[0]]\n",
    "    outliers.to_csv(file, index=False)\n",
    "    \n",
    "    df.drop(df.index[position[0]], inplace=True)\n",
    "    \n",
    "    return df\n",
    "\n",
    "def calculate_CCM(df):\n",
    "    return np.corrcoef(np.row_stack((\n",
    "        df['T(t-2)'].values,\n",
    "        df['T(t-1)'].values,\n",
    "        df['T(t)'].values,\n",
    "        df['D(t-2)'].values,\n",
    "        df['D(t-1)'].values,\n",
    "        df['D(t)'].values,\n",
    "        df['P(t+1)'].values\n",
    "    )))\n",
    "\n",
    "# Read in the data to a data frame\n",
    "training_df = pd.read_csv(\"datasets/Training_Data.csv\")\n",
    "testing_df = pd.read_csv(\"datasets/Testing_Data.csv\")\n",
    "\n",
    "# Remove the outliers from both training and test datasets\n",
    "training_df = clean_dataset(training_df, file=\"datasets/training_outlier.csv\")\n",
    "testing_df = clean_dataset(testing_df, file=\"datasets/testing_outliers.csv\")\n",
    "\n",
    "training_df.to_csv(\"datasets/cleaned_training.csv\", index=False)\n",
    "testing_df.to_csv(\"datasets/cleaned_testing.csv\", index=False)\n",
    "\n",
    "# Calculate the correlation coefficient matrix for each dataset\n",
    "training_CCM = calculate_CCM(training_df)\n",
    "testing_CCM = calculate_CCM(testing_df)\n",
    "\n",
    "#plt.plot(training_df['T(t-2)'].values)\n",
    "#plt.plot(training_df['D(t)'].values/200)\n",
    "#plt.plot(training_df['P(t+1)'].values)\n",
    "#plt.show()\n",
    "\n",
    "# USE THESE HISTOGRAMS TO CREATE MEMBERSHIP FUNCTIONS\n",
    "# mean of distribution\n",
    "\n",
    "# standard deviation of distribution\n",
    "# fig, ax = plt.subplots()\n",
    "\n",
    "# histogram of data\n",
    "# n, bins, patches = ax.hist(training_df['T(t-2)'].values, 50)\n",
    "# n, bins, patches = ax.hist(training_df['D(t)'].values, 50)\n",
    "# n, bins, patches = ax.hist(training_df['P(t+1)'].values, 50)\n",
    "# fig.tight_layout()\n",
    "# plt.show()\n",
    "\n",
    "x = training_df['T(t-2)'].values\n",
    "y = training_df['P(t+1)'].values\n",
    "\n",
    "fig, ax = plt.subplots()\n",
    "fit = np.polyfit(x, y, deg=1)\n",
    "ax.plot(x, fit[0] * x + fit[1], color='red')\n",
    "ax.scatter(x, y)\n",
    "\n",
    "fig.show()"
   ]
  },
  {
   "cell_type": "code",
   "execution_count": 2,
   "metadata": {
    "collapsed": false
   },
   "outputs": [
    {
     "ename": "NameError",
     "evalue": "name 'Temperature' is not defined",
     "output_type": "error",
     "traceback": [
      "\u001b[0;31m---------------------------------------------------------------------------\u001b[0m",
      "\u001b[0;31mNameError\u001b[0m                                 Traceback (most recent call last)",
      "\u001b[0;32m<ipython-input-2-76c0b8034a8b>\u001b[0m in \u001b[0;36m<module>\u001b[0;34m()\u001b[0m\n\u001b[1;32m     19\u001b[0m \u001b[0mprice\u001b[0m \u001b[0;34m=\u001b[0m \u001b[0mctrl\u001b[0m\u001b[0;34m.\u001b[0m\u001b[0mConsequent\u001b[0m\u001b[0;34m(\u001b[0m\u001b[0mnp\u001b[0m\u001b[0;34m.\u001b[0m\u001b[0marange\u001b[0m\u001b[0;34m(\u001b[0m\u001b[0;36m10\u001b[0m\u001b[0;34m,\u001b[0m \u001b[0;36m60\u001b[0m\u001b[0;34m)\u001b[0m\u001b[0;34m,\u001b[0m \u001b[0;34m'Price'\u001b[0m\u001b[0;34m)\u001b[0m\u001b[0;34m\u001b[0m\u001b[0m\n\u001b[1;32m     20\u001b[0m \u001b[0;34m\u001b[0m\u001b[0m\n\u001b[0;32m---> 21\u001b[0;31m \u001b[0mtemperature\u001b[0m\u001b[0;34m[\u001b[0m\u001b[0;34m'cold'\u001b[0m\u001b[0;34m]\u001b[0m \u001b[0;34m=\u001b[0m \u001b[0mfuzz\u001b[0m\u001b[0;34m.\u001b[0m\u001b[0mtrimf\u001b[0m\u001b[0;34m(\u001b[0m\u001b[0mTemperature\u001b[0m\u001b[0;34m.\u001b[0m\u001b[0muniverse\u001b[0m\u001b[0;34m,\u001b[0m \u001b[0;34m[\u001b[0m\u001b[0;36m20\u001b[0m\u001b[0;34m,\u001b[0m \u001b[0;36m20\u001b[0m\u001b[0;34m,\u001b[0m \u001b[0;36m27\u001b[0m\u001b[0;34m]\u001b[0m\u001b[0;34m)\u001b[0m\u001b[0;34m\u001b[0m\u001b[0m\n\u001b[0m\u001b[1;32m     22\u001b[0m \u001b[0mtemperature\u001b[0m\u001b[0;34m[\u001b[0m\u001b[0;34m'mild'\u001b[0m\u001b[0;34m]\u001b[0m \u001b[0;34m=\u001b[0m \u001b[0mfuzz\u001b[0m\u001b[0;34m.\u001b[0m\u001b[0mtrimf\u001b[0m\u001b[0;34m(\u001b[0m\u001b[0mTemperature\u001b[0m\u001b[0;34m.\u001b[0m\u001b[0muniverse\u001b[0m\u001b[0;34m,\u001b[0m \u001b[0;34m[\u001b[0m\u001b[0;36m20\u001b[0m\u001b[0;34m,\u001b[0m \u001b[0;36m27\u001b[0m\u001b[0;34m,\u001b[0m \u001b[0;36m34\u001b[0m\u001b[0;34m]\u001b[0m\u001b[0;34m)\u001b[0m\u001b[0;34m\u001b[0m\u001b[0m\n\u001b[1;32m     23\u001b[0m \u001b[0mtemperature\u001b[0m\u001b[0;34m[\u001b[0m\u001b[0;34m'hot'\u001b[0m\u001b[0;34m]\u001b[0m \u001b[0;34m=\u001b[0m \u001b[0mfuzz\u001b[0m\u001b[0;34m.\u001b[0m\u001b[0mtrimf\u001b[0m\u001b[0;34m(\u001b[0m\u001b[0mTemperature\u001b[0m\u001b[0;34m.\u001b[0m\u001b[0muniverse\u001b[0m\u001b[0;34m,\u001b[0m \u001b[0;34m[\u001b[0m\u001b[0;36m27\u001b[0m\u001b[0;34m,\u001b[0m \u001b[0;36m34\u001b[0m\u001b[0;34m,\u001b[0m \u001b[0;36m34\u001b[0m\u001b[0;34m]\u001b[0m\u001b[0;34m)\u001b[0m\u001b[0;34m\u001b[0m\u001b[0m\n",
      "\u001b[0;31mNameError\u001b[0m: name 'Temperature' is not defined"
     ]
    }
   ],
   "source": [
    "# Part III - Design membership functions\n",
    "\n",
    "# Using {T(t-2), D(t)} -> {P(t+1)}\n",
    "# Training:\n",
    "#     Temperature (min=20.9, max=32.3)\n",
    "#     Demand (min=3807.6, max=6705.4)\n",
    "#     Price (min=10.25, max=51.63)\n",
    "\n",
    "# Testing:\n",
    "#     Temperature (min=22.6, max=33.2)\n",
    "#     Demand (min=3891.9, 6727.2)\n",
    "#     Price (min=9.54, 54.33)\n",
    "import numpy as np\n",
    "import skfuzzy as fuzz\n",
    "from skfuzzy import control as ctrl\n",
    "\n",
    "temperature = ctrl.Antecedent(np.arange(20, 35, 1), 'Temperature')\n",
    "demand = ctrl.Antecedent(np.arange(3500, 7000, 1), 'Demand')\n",
    "price = ctrl.Consequent(np.arange(10, 60), 'Price')\n",
    "\n",
    "temperature['cold'] = fuzz.trimf(Temperature.universe, [20, 20, 27])\n",
    "temperature['mild'] = fuzz.trimf(Temperature.universe, [20, 27, 34])\n",
    "temperature['hot'] = fuzz.trimf(Temperature.universe, [27, 34, 34])\n",
    "\n",
    "demand['low'] = fuzz.trimf(Demand.universe, [3500, 3500, 5250])\n",
    "demand['medium'] = fuzz.trimf(Demand.universe, [3500, 5250, 7000])\n",
    "demand['high'] = fuzz.trimf(Demand.universe, [5250, 7000, 7000])\n",
    "\n",
    "price['low'] = fuzz.trimf(Price.universe, [10, 10, 35])\n",
    "price['medium'] = fuzz.trimf(Price.universe, [10, 35, 60])\n",
    "price['high'] = fuzz.trimf(Price.universe, [35, 60, 60])\n",
    "\n",
    "\n",
    "\"\"\"\n",
    "rule1 = ctrl.Rule(temperature['cold'] & demand['low'], price['low'])\n",
    "rule2 = ctrl.Rule(temperature['hot'] & demand['high'], price['high'])\n",
    "\n",
    "price_ctrl = ctrl.ControlSystem([rule1, rule2])\n",
    "pricing = ctrl.ControlSystemSimulation(price_ctrl)\n",
    "\n",
    "temperature_input = np.array(training_df['T(t-2)'].values)\n",
    "demand_input = np.array(training_df['D(t)'].values)\n",
    "length = len(temperature_input)\n",
    "system_outputs = np.zeros(length)\n",
    "\n",
    "for i in range(length):\n",
    "    pricing.input['Temperature'] = temperature_input[i]\n",
    "    pricing.input['Demand'] = demand_input[i]\n",
    "    pricing.compute()\n",
    "    system_outputs[i] = pricing.output['Price']\n",
    "    \n",
    "print(system_outputs)\"\"\""
   ]
  },
  {
   "cell_type": "code",
   "execution_count": null,
   "metadata": {
    "collapsed": true
   },
   "outputs": [],
   "source": []
  }
 ],
 "metadata": {
  "kernelspec": {
   "display_name": "Python 3",
   "language": "python",
   "name": "python3"
  },
  "language_info": {
   "codemirror_mode": {
    "name": "ipython",
    "version": 3
   },
   "file_extension": ".py",
   "mimetype": "text/x-python",
   "name": "python",
   "nbconvert_exporter": "python",
   "pygments_lexer": "ipython3",
   "version": "3.6.0"
  }
 },
 "nbformat": 4,
 "nbformat_minor": 2
}
